{
 "cells": [
  {
   "cell_type": "code",
   "execution_count": 6,
   "id": "51ca47a9",
   "metadata": {},
   "outputs": [],
   "source": [
    "def is_notebook() -> bool:\n",
    "    try:\n",
    "        shell = get_ipython().__class__.__name__\n",
    "        if shell == 'ZMQInteractiveShell':\n",
    "            return True   # Jupyter notebook or qtconsole\n",
    "        elif shell == 'TerminalInteractiveShell':\n",
    "            return False  # Terminal running IPython\n",
    "        else:\n",
    "            return False  # Other type (?)\n",
    "    except NameError:\n",
    "        return False      # Probably standard Python interpreter"
   ]
  },
  {
   "cell_type": "code",
   "execution_count": 7,
   "id": "83d981ba",
   "metadata": {},
   "outputs": [
    {
     "data": {
      "text/plain": [
       "'/home/ignacio-rosa/code/ignacio-rosa/project-ais/code/data_handling/reddit'"
      ]
     },
     "execution_count": 7,
     "metadata": {},
     "output_type": "execute_result"
    }
   ],
   "source": [
    "os.getcwd()"
   ]
  },
  {
   "cell_type": "code",
   "execution_count": 8,
   "id": "36547bc6",
   "metadata": {},
   "outputs": [],
   "source": [
    "import pandas as pd\n",
    "#import numpy as np\n",
    "import os\n",
    "\n",
    "try:\n",
    "    pwd = os.path.abspath(__file__)\n",
    "    path_data = os.path.join(os.path.dirname(os.path.dirname(os.path.dirname(pwd))),\n",
    "                             'raw_data')\n",
    "    path_clean = os.path.join(path_data, 'reddit_clean')\n",
    "except:\n",
    "    if is_notebook() == True:\n",
    "        pwd = os.getcwd()\n",
    "        path_data = os.path.join(os.path.dirname(os.path.dirname(os.path.dirname(pwd))),\n",
    "                                 'raw_data')\n",
    "        path_clean = os.path.join(path_data, 'reddit_clean')\n",
    "    else:\n",
    "        pwd = os.getcwd()\n",
    "        path_data = os.path.join(pwd, 'raw_data')\n",
    "        path_clean = os.path.join(path_data, 'reddit_clean')\n",
    "\n",
    "df = pd.read_csv(f'{path_clean}/subreddit_clean_filtered.csv',\n",
    "                 sep=',', escapechar='\\\\')\n",
    "df['created'] = pd.to_datetime(df['created'])\n",
    "df['ym'] = df['created'].apply(lambda x: int(str(x.year) + str(x.month+100)[-2:]))\n",
    "df = df[df['ym']>=201301]\n",
    "_dups = df[['id', 'ticker']].groupby('id').count()\n",
    "_dups = _dups.rename(columns={'ticker': 'dups'})\n",
    "df = pd.merge(df, _dups, on='id', how='left')\n",
    "df['dups'] = df['dups'].apply(lambda x: 1 if x > 1 else 0)\n",
    "df_pivot = pd.pivot_table(df, index=['ticker', 'ym', 'dups'],\n",
    "                          values='id', aggfunc='count').reset_index()"
   ]
  },
  {
   "cell_type": "code",
   "execution_count": 30,
   "id": "bdbf5110",
   "metadata": {},
   "outputs": [
    {
     "data": {
      "text/html": [
       "<div>\n",
       "<style scoped>\n",
       "    .dataframe tbody tr th:only-of-type {\n",
       "        vertical-align: middle;\n",
       "    }\n",
       "\n",
       "    .dataframe tbody tr th {\n",
       "        vertical-align: top;\n",
       "    }\n",
       "\n",
       "    .dataframe thead th {\n",
       "        text-align: right;\n",
       "    }\n",
       "</style>\n",
       "<table border=\"1\" class=\"dataframe\">\n",
       "  <thead>\n",
       "    <tr style=\"text-align: right;\">\n",
       "      <th></th>\n",
       "      <th>ticker</th>\n",
       "      <th>id</th>\n",
       "    </tr>\n",
       "  </thead>\n",
       "  <tbody>\n",
       "    <tr>\n",
       "      <th>0</th>\n",
       "      <td>A</td>\n",
       "      <td>338.291667</td>\n",
       "    </tr>\n",
       "    <tr>\n",
       "      <th>1</th>\n",
       "      <td>AAL</td>\n",
       "      <td>12.008850</td>\n",
       "    </tr>\n",
       "    <tr>\n",
       "      <th>2</th>\n",
       "      <td>AAP</td>\n",
       "      <td>3.400000</td>\n",
       "    </tr>\n",
       "    <tr>\n",
       "      <th>3</th>\n",
       "      <td>AAPL</td>\n",
       "      <td>149.800000</td>\n",
       "    </tr>\n",
       "    <tr>\n",
       "      <th>4</th>\n",
       "      <td>ABBV</td>\n",
       "      <td>6.200000</td>\n",
       "    </tr>\n",
       "  </tbody>\n",
       "</table>\n",
       "</div>"
      ],
      "text/plain": [
       "  ticker          id\n",
       "0      A  338.291667\n",
       "1    AAL   12.008850\n",
       "2    AAP    3.400000\n",
       "3   AAPL  149.800000\n",
       "4   ABBV    6.200000"
      ]
     },
     "execution_count": 30,
     "metadata": {},
     "output_type": "execute_result"
    }
   ],
   "source": [
    "import seaborn as sns\n",
    "df_meanTicker = df_pivot[['ticker', 'ym', 'id']].groupby(['ticker', 'ym'], as_index=False).sum()\n",
    "df_meanTicker = df_meanTicker[['ticker', 'id']].groupby(['ticker'], as_index=False).mean()\n",
    "df_meanTicker.head()"
   ]
  },
  {
   "cell_type": "code",
   "execution_count": 31,
   "id": "cc53f45a",
   "metadata": {},
   "outputs": [
    {
     "data": {
      "text/plain": [
       "<Axes: xlabel='id', ylabel='Count'>"
      ]
     },
     "execution_count": 31,
     "metadata": {},
     "output_type": "execute_result"
    },
    {
     "data": {
      "image/png": "[encoded data removed]",
      "text/plain": [
       "<Figure size 640x480 with 1 Axes>"
      ]
     },
     "metadata": {},
     "output_type": "display_data"
    }
   ],
   "source": [
    "sns.histplot(df_meanTicker['id'], binwidth=3)"
   ]
  },
  {
   "cell_type": "code",
   "execution_count": 32,
   "id": "e9602b70",
   "metadata": {},
   "outputs": [
    {
     "data": {
      "text/html": [
       "<div>\n",
       "<style scoped>\n",
       "    .dataframe tbody tr th:only-of-type {\n",
       "        vertical-align: middle;\n",
       "    }\n",
       "\n",
       "    .dataframe tbody tr th {\n",
       "        vertical-align: top;\n",
       "    }\n",
       "\n",
       "    .dataframe thead th {\n",
       "        text-align: right;\n",
       "    }\n",
       "</style>\n",
       "<table border=\"1\" class=\"dataframe\">\n",
       "  <thead>\n",
       "    <tr style=\"text-align: right;\">\n",
       "      <th></th>\n",
       "      <th>ticker</th>\n",
       "      <th>id</th>\n",
       "    </tr>\n",
       "  </thead>\n",
       "  <tbody>\n",
       "    <tr>\n",
       "      <th>0</th>\n",
       "      <td>A</td>\n",
       "      <td>338.291667</td>\n",
       "    </tr>\n",
       "    <tr>\n",
       "      <th>1</th>\n",
       "      <td>AAL</td>\n",
       "      <td>12.008850</td>\n",
       "    </tr>\n",
       "    <tr>\n",
       "      <th>2</th>\n",
       "      <td>AAP</td>\n",
       "      <td>3.400000</td>\n",
       "    </tr>\n",
       "    <tr>\n",
       "      <th>3</th>\n",
       "      <td>AAPL</td>\n",
       "      <td>149.800000</td>\n",
       "    </tr>\n",
       "    <tr>\n",
       "      <th>4</th>\n",
       "      <td>ABBV</td>\n",
       "      <td>6.200000</td>\n",
       "    </tr>\n",
       "  </tbody>\n",
       "</table>\n",
       "</div>"
      ],
      "text/plain": [
       "  ticker          id\n",
       "0      A  338.291667\n",
       "1    AAL   12.008850\n",
       "2    AAP    3.400000\n",
       "3   AAPL  149.800000\n",
       "4   ABBV    6.200000"
      ]
     },
     "execution_count": 32,
     "metadata": {},
     "output_type": "execute_result"
    }
   ],
   "source": [
    "df_meanTicker.head()"
   ]
  },
  {
   "cell_type": "code",
   "execution_count": 33,
   "id": "57718a63",
   "metadata": {},
   "outputs": [],
   "source": [
    "df_meanTicker.to_csv(f'{path_clean}/average_submissions_10years.csv', index=False)"
   ]
  },
  {
   "cell_type": "code",
   "execution_count": 34,
   "id": "f92b8466",
   "metadata": {},
   "outputs": [
    {
     "data": {
      "text/plain": [
       "'/home/ignacio-rosa/code/ignacio-rosa/project-ais/raw_data/reddit_clean'"
      ]
     },
     "execution_count": 34,
     "metadata": {},
     "output_type": "execute_result"
    }
   ],
   "source": [
    "path_clean"
   ]
  }
 ],
 "metadata": {
  "kernelspec": {
   "display_name": "Python 3 (ipykernel)",
   "language": "python",
   "name": "python3"
  },
  "language_info": {
   "codemirror_mode": {
    "name": "ipython",
    "version": 3
   },
   "file_extension": ".py",
   "mimetype": "text/x-python",
   "name": "python",
   "nbconvert_exporter": "python",
   "pygments_lexer": "ipython3",
   "version": "3.10.6"
  },
  "toc": {
   "base_numbering": 1,
   "nav_menu": {},
   "number_sections": true,
   "sideBar": true,
   "skip_h1_title": false,
   "title_cell": "Table of Contents",
   "title_sidebar": "Contents",
   "toc_cell": false,
   "toc_position": {},
   "toc_section_display": true,
   "toc_window_display": false
  }
 },
 "nbformat": 4,
 "nbformat_minor": 5
}
